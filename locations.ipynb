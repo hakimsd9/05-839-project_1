{
 "metadata": {
  "name": "",
  "signature": "sha256:2d32c2615fc0dc2bfab5382a7f4290bf5b33bf79947c97c0a7ae17265be764c7"
 },
 "nbformat": 3,
 "nbformat_minor": 0,
 "worksheets": [
  {
   "cells": [
    {
     "cell_type": "markdown",
     "metadata": {},
     "source": [
      "## Get gps locations of hospitals in file\n",
      "\n",
      "Adapted from Randy Sargent: URL: http://nbviewer.ipython.org/url/rsargent.cmucreatelab.org/mcdonalds/McDonalds%20across%20the%20U.S..ipynb\n",
      "Check here for updates.\n",
      "\n"
     ]
    },
    {
     "cell_type": "markdown",
     "metadata": {},
     "source": [
      "### About this file\n",
      "blabla"
     ]
    },
    {
     "cell_type": "markdown",
     "metadata": {},
     "source": [
      "### Ready to go!\n",
      "#### Keeping a copy of the locations on disk\n"
     ]
    },
    {
     "cell_type": "code",
     "collapsed": false,
     "input": [
      "#\n",
      "# Functions to load and save scraped Hospitals locations to/from this local JSON file:\n",
      "#\n",
      "\n",
      "import os\n",
      "import json\n",
      "\n",
      "locations_path = os.path.expanduser('/home/larbi/Dropbox/pipeline/05-839_bytes/05-839-project_1/hospital_locations.json')\n",
      "\n",
      "# Read locations from your local json file.  If the file is missing, create it.\n",
      "def read_or_create_locations():\n",
      "    try:\n",
      "        locations = json.load(open(locations_path))\n",
      "        print 'Read %d locations from %s' % (len(locations), locations_path)\n",
      "    except StandardError:\n",
      "        locations = []\n",
      "        print '%s does not exist; creating' % locations_path\n",
      "        write_locations(locations)\n",
      "    return locations\n",
      "\n",
      "# Write locations to your local json file\n",
      "def write_locations(locations):\n",
      "    try:\n",
      "        os.makedirs(os.path.dirname(locations_path))\n",
      "    except StandardError:\n",
      "        pass\n",
      "    json.dump(locations, open(locations_path, 'w'), indent=2)\n",
      "    print 'Wrote %d locations to %s' % (len(locations), locations_path)"
     ],
     "language": "python",
     "metadata": {},
     "outputs": [],
     "prompt_number": 1
    },
    {
     "cell_type": "code",
     "collapsed": false,
     "input": [
      "# Read previously scraped locations, if any\n",
      "#\n",
      "# Note:  if you need to restart python, you'll especially want to reevaluate this line\n",
      "# to reload your current set of locations\n",
      "\n",
      "locations = read_or_create_locations()"
     ],
     "language": "python",
     "metadata": {},
     "outputs": [
      {
       "output_type": "stream",
       "stream": "stdout",
       "text": [
        "Read 0 locations from /home/larbi/Dropbox/pipeline/05-839_bytes/05-839-project_1/hospital_locations.json\n"
       ]
      }
     ],
     "prompt_number": 2
    },
    {
     "cell_type": "markdown",
     "metadata": {},
     "source": [
      "###Geocode a street address into Lat/Long"
     ]
    },
    {
     "cell_type": "code",
     "collapsed": false,
     "input": [
      "import urllib\n",
      "import urllib2\n",
      "\n",
      "# Geocode a street address using Google's geocoding API\n",
      "# Returns {'lat': latitude, 'lng': longitude} on success\n",
      "# Returns False if not found\n",
      "# Raises exception if a problem occurs (such as running out of quota)\n",
      "#\n",
      "# Note:  Google's geolocation service is limited to around 2500 geolocations per day.  If you receive\n",
      "# an error that you've run out of quota, you'll need to wait a day, or change your IP address.\n",
      "#\n",
      "# (For the purposes of this assignment, see below for a shortcut to download already geolocated addresses to\n",
      "#  fill in your gaps)\n",
      "#\n",
      "#  If you run into quota limitation and don't want to wait a day, here are some ways to change your IP address:\n",
      "#    - If you're on a laptop, move to a different wireless network\n",
      "#    - Find an HTTP proxy at http://www.hidemyass.com/proxy-list and switch to that proxy with this python command:\n",
      "#      urllib2.install_opener(urllib2.build_opener(urllib2.ProxyHandler({'http': '168.63.167.183'})))\n",
      "#    - Utitlize a VPN service (e.g. Hide My Ass's \"Pro VPN\" account, which costs $)\n",
      "\n",
      "def geocode(address):\n",
      "    # Perform API call to maps.googleapis.com, which will return address in JSON format\n",
      "    url = 'http://maps.googleapis.com/maps/api/geocode/json?%s' % urllib.urlencode({'address': address, 'sensor': 'false'})\n",
      "    geocode = json.loads(urllib2.urlopen(url).read())\n",
      "    if geocode['status'] == 'OK' and geocode['results']:\n",
      "        # Success!  Return the first result\n",
      "        return geocode['results'][0]['geometry']['location']\n",
      "    elif geocode['status'] <> 'ZERO_RESULTS':\n",
      "        # Something failed (maybe out of quota?).  Raise an exception.\n",
      "        msg = 'When trying to geocode address %s by reading url %s, received a status != OK: %s' % (address, url, geocode['status'])\n",
      "        print msg\n",
      "        raise Exception(msg)\n",
      "    else:\n",
      "        # No results for this address.  Return false.\n",
      "        return False"
     ],
     "language": "python",
     "metadata": {},
     "outputs": [],
     "prompt_number": 3
    },
    {
     "cell_type": "code",
     "collapsed": false,
     "input": [
      "# Try it out\n",
      "geocode(\"Algiers\")"
     ],
     "language": "python",
     "metadata": {},
     "outputs": [
      {
       "metadata": {},
       "output_type": "pyout",
       "prompt_number": 4,
       "text": [
        "{u'lat': 36.752887, u'lng': 3.042048}"
       ]
      }
     ],
     "prompt_number": 4
    },
    {
     "cell_type": "code",
     "collapsed": false,
     "input": [
      "# Go ahead and try it out on some other addresses.  Does it work outside the U.S.?"
     ],
     "language": "python",
     "metadata": {},
     "outputs": [],
     "prompt_number": 5
    },
    {
     "cell_type": "markdown",
     "metadata": {},
     "source": [
      "###Scrape the address of a hospital\n",
      "Read the address of each hospital from csv file. Fetch its corresponding geocode and write row+geocode to new file "
     ]
    },
    {
     "cell_type": "code",
     "collapsed": false,
     "input": [
      "from csv import reader, writer\n",
      "import time\n",
      "\n",
      "def scrape_hospital(mergedFile, outputFile, delim=','):\n",
      "    \"\"\"\n",
      "    \n",
      "    \"\"\"\n",
      "    locations = []\n",
      "    with open(mergedFile) as src, open(outputFile, 'w') as dst:\n",
      "        rdr = reader(src, delimiter = delim)\n",
      "        wrt = writer(dst, delimiter=delim)\n",
      "        headers = next(rdr)\n",
      "        variables = ['Zip', 'Provider Id', 'Address', 'lat', 'lng', \n",
      "                     'total Expenditures', 'OP_6', 'OP_7', 'SCIP_INF_3', \n",
      "                     'SCIP_CARD_2', 'SCIP_VTE_2', 'SCIP_INF_9', 'PN_6', 'HF_1',\n",
      "                     'HF_2', 'IMM_2', 'Median']\n",
      "        wrt.writerow(variables)\n",
      "        for k in range(len(headers)):\n",
      "            if headers[k] == 'Zip':\n",
      "                zztop = k\n",
      "            if headers[k] == 'Provider Id':\n",
      "                providerId = k\n",
      "            if headers[k] == 'Address':\n",
      "                address = k\n",
      "            if headers[k] == 'total Expenditures':\n",
      "                totalExp = k\n",
      "            if headers[k] == 'OP_6':\n",
      "                op6 = k\n",
      "            if headers[k] == 'OP_7':\n",
      "                op7 = k\n",
      "            if headers[k] == 'SCIP_INF_3':\n",
      "                sci3 = k\n",
      "            if headers[k] == 'SCIP_CARD_2':\n",
      "                sicard = k\n",
      "            if headers[k] == 'SCIP_VTE_2':\n",
      "                sci2 = k\n",
      "            if headers[k] == 'SCIP_INF_9':\n",
      "                sci9 = k\n",
      "            if headers[k] == 'PN_6':\n",
      "                pn6 = k\n",
      "            if headers[k] == 'HF_1':\n",
      "                hf1 = k\n",
      "            if headers[k] == 'HF_2':\n",
      "                hf2 = k\n",
      "            if headers[k] == 'IMM_2':\n",
      "                imm2 = k\n",
      "            if headers[k] == 'Median':\n",
      "                med = k\n",
      " \n",
      "        for row in rdr:\n",
      "            time.sleep(2)\n",
      "            try:\n",
      "                latlng = geocode(row[address])\n",
      "                if latlng == False:\n",
      "                    lat = ''\n",
      "                    lng = ''\n",
      "                else:\n",
      "                    lat = latlng['lat']\n",
      "                    lng = latlng['lng']\n",
      "                    location = {'ProviderId':row[providerId],'lat':lat,'lng':lng}\n",
      "                    locations.append(location)\n",
      "            except StandardError:\n",
      "                    lat = ''\n",
      "                    lng = ''\n",
      "            to_write = [row[zztop],row[providerId],row[address],lat,lng,row[totalExp],row[op6],row[op7],\n",
      "                        row[sci3],row[sicard],row[sci2],row[sci9],row[pn6],row[hf1],row[hf2],\n",
      "                        row[imm2],row[med]]\n",
      "            wrt.writerow(to_write)\n",
      "    return locations\n",
      "#        for row in rdr:\n",
      "#            time.sleep(2)\n",
      "#            try:\n",
      "#                latlng = geocode(row[address])\n",
      "#                print('fetching' , row[address])\n",
      "#                print(row[address], latlng)\n",
      "#                if latlng == False:\n",
      "#                    print('lat',' ','lng',' ')\n",
      "#                else:\n",
      "#                    print('lat',latlng['lat'],'lng',latlng['lng'])\n",
      "#            except StandardError:\n",
      "#                print('ERROR!')\n",
      "#                print('Error fetching ', row[address])\n"
     ],
     "language": "python",
     "metadata": {},
     "outputs": [],
     "prompt_number": 6
    },
    {
     "cell_type": "code",
     "collapsed": false,
     "input": [],
     "language": "python",
     "metadata": {},
     "outputs": [],
     "prompt_number": 6
    },
    {
     "cell_type": "code",
     "collapsed": false,
     "input": [
      "# Try it out\n",
      "locations = scrape_hospital('/home/larbi/Dropbox/pipeline/05-839_bytes/05-839-project_1/output2.csv', '/home/larbi/Dropbox/pipeline/05-839_bytes/05-839-project_1/mergedWithGeoCode2.csv')"
     ],
     "language": "python",
     "metadata": {},
     "outputs": [
      {
       "output_type": "stream",
       "stream": "stdout",
       "text": [
        "When trying to geocode address ORANGE PARK MEDICAL CENTER 2001 KINGSLEY AVE by reading url http://maps.googleapis.com/maps/api/geocode/json?sensor=false&address=ORANGE+PARK+MEDICAL+CENTER+2001+KINGSLEY+AVE, received a status != OK: OVER_QUERY_LIMIT\n"
       ]
      },
      {
       "ename": "Exception",
       "evalue": "When trying to geocode address ORANGE PARK MEDICAL CENTER 2001 KINGSLEY AVE by reading url http://maps.googleapis.com/maps/api/geocode/json?sensor=false&address=ORANGE+PARK+MEDICAL+CENTER+2001+KINGSLEY+AVE, received a status != OK: OVER_QUERY_LIMIT",
       "output_type": "pyerr",
       "traceback": [
        "\u001b[1;31m---------------------------------------------------------------------------\u001b[0m\n\u001b[1;31mException\u001b[0m                                 Traceback (most recent call last)",
        "\u001b[1;32m<ipython-input-7-2a54a22790a8>\u001b[0m in \u001b[0;36m<module>\u001b[1;34m()\u001b[0m\n\u001b[0;32m      1\u001b[0m \u001b[1;31m# Try it out\u001b[0m\u001b[1;33m\u001b[0m\u001b[1;33m\u001b[0m\u001b[0m\n\u001b[1;32m----> 2\u001b[1;33m \u001b[0mlocations\u001b[0m \u001b[1;33m=\u001b[0m \u001b[0mscrape_hospital\u001b[0m\u001b[1;33m(\u001b[0m\u001b[1;34m'/home/larbi/Dropbox/pipeline/05-839_bytes/05-839-project_1/output2.csv'\u001b[0m\u001b[1;33m,\u001b[0m \u001b[1;34m'/home/larbi/Dropbox/pipeline/05-839_bytes/05-839-project_1/mergedWithGeoCode2.csv'\u001b[0m\u001b[1;33m)\u001b[0m\u001b[1;33m\u001b[0m\u001b[0m\n\u001b[0m",
        "\u001b[1;32m<ipython-input-6-efbd1727c5c8>\u001b[0m in \u001b[0;36mscrape_hospital\u001b[1;34m(mergedFile, outputFile, delim)\u001b[0m\n\u001b[0;32m     51\u001b[0m             \u001b[0mtime\u001b[0m\u001b[1;33m.\u001b[0m\u001b[0msleep\u001b[0m\u001b[1;33m(\u001b[0m\u001b[1;36m2\u001b[0m\u001b[1;33m)\u001b[0m\u001b[1;33m\u001b[0m\u001b[0m\n\u001b[0;32m     52\u001b[0m             \u001b[1;32mtry\u001b[0m\u001b[1;33m:\u001b[0m\u001b[1;33m\u001b[0m\u001b[0m\n\u001b[1;32m---> 53\u001b[1;33m                 \u001b[0mlatlng\u001b[0m \u001b[1;33m=\u001b[0m \u001b[0mgeocode\u001b[0m\u001b[1;33m(\u001b[0m\u001b[0mrow\u001b[0m\u001b[1;33m[\u001b[0m\u001b[0maddress\u001b[0m\u001b[1;33m]\u001b[0m\u001b[1;33m)\u001b[0m\u001b[1;33m\u001b[0m\u001b[0m\n\u001b[0m\u001b[0;32m     54\u001b[0m                 \u001b[1;32mif\u001b[0m \u001b[0mlatlng\u001b[0m \u001b[1;33m==\u001b[0m \u001b[0mFalse\u001b[0m\u001b[1;33m:\u001b[0m\u001b[1;33m\u001b[0m\u001b[0m\n\u001b[0;32m     55\u001b[0m                     \u001b[0mlat\u001b[0m \u001b[1;33m=\u001b[0m \u001b[1;34m''\u001b[0m\u001b[1;33m\u001b[0m\u001b[0m\n",
        "\u001b[1;32m<ipython-input-3-816c554d3ebc>\u001b[0m in \u001b[0;36mgeocode\u001b[1;34m(address)\u001b[0m\n\u001b[0;32m     30\u001b[0m         \u001b[0mmsg\u001b[0m \u001b[1;33m=\u001b[0m \u001b[1;34m'When trying to geocode address %s by reading url %s, received a status != OK: %s'\u001b[0m \u001b[1;33m%\u001b[0m \u001b[1;33m(\u001b[0m\u001b[0maddress\u001b[0m\u001b[1;33m,\u001b[0m \u001b[0murl\u001b[0m\u001b[1;33m,\u001b[0m \u001b[0mgeocode\u001b[0m\u001b[1;33m[\u001b[0m\u001b[1;34m'status'\u001b[0m\u001b[1;33m]\u001b[0m\u001b[1;33m)\u001b[0m\u001b[1;33m\u001b[0m\u001b[0m\n\u001b[0;32m     31\u001b[0m         \u001b[1;32mprint\u001b[0m \u001b[0mmsg\u001b[0m\u001b[1;33m\u001b[0m\u001b[0m\n\u001b[1;32m---> 32\u001b[1;33m         \u001b[1;32mraise\u001b[0m \u001b[0mException\u001b[0m\u001b[1;33m(\u001b[0m\u001b[0mmsg\u001b[0m\u001b[1;33m)\u001b[0m\u001b[1;33m\u001b[0m\u001b[0m\n\u001b[0m\u001b[0;32m     33\u001b[0m     \u001b[1;32melse\u001b[0m\u001b[1;33m:\u001b[0m\u001b[1;33m\u001b[0m\u001b[0m\n\u001b[0;32m     34\u001b[0m         \u001b[1;31m# No results for this address.  Return false.\u001b[0m\u001b[1;33m\u001b[0m\u001b[1;33m\u001b[0m\u001b[0m\n",
        "\u001b[1;31mException\u001b[0m: When trying to geocode address ORANGE PARK MEDICAL CENTER 2001 KINGSLEY AVE by reading url http://maps.googleapis.com/maps/api/geocode/json?sensor=false&address=ORANGE+PARK+MEDICAL+CENTER+2001+KINGSLEY+AVE, received a status != OK: OVER_QUERY_LIMIT"
       ]
      }
     ],
     "prompt_number": 7
    },
    {
     "cell_type": "code",
     "collapsed": false,
     "input": [
      "print(locations)"
     ],
     "language": "python",
     "metadata": {},
     "outputs": [
      {
       "output_type": "stream",
       "stream": "stdout",
       "text": [
        "[{'lat': 40.8709034, 'ProviderId': '330181', 'lng': -73.6224046}, {'lat': 39.821909, 'ProviderId': '390220', 'lng': -75.8868339}, {'lat': 39.4800962, 'ProviderId': '150001', 'lng': -86.07773069999999}, {'lat': 38.6414354, 'ProviderId': '080006', 'lng': -75.604441}, {'lat': 41.9614369, 'ProviderId': '390118', 'lng': -78.6593761}, {'lat': 42.9546165, 'ProviderId': '330047', 'lng': -74.2166549}, {'lat': 37.6591974, 'ProviderId': '050070', 'lng': -122.4393133}, {'lat': 40.9422535, 'ProviderId': '330061', 'lng': -73.8370328}, {'lat': 40.9296269, 'ProviderId': '330006', 'lng': -73.8982968}, {'lat': 40.9693128, 'ProviderId': '330208', 'lng': -73.8847273}, {'lat': 37.6982669, 'ProviderId': '050488', 'lng': -122.0901584}, {'lat': 36.6061614, 'ProviderId': '180020', 'lng': -83.7402415}, {'lat': 36.8628009, 'ProviderId': '490007', 'lng': -76.3035092}, {'lat': 36.8993165, 'ProviderId': '490011', 'lng': -76.281606}, {'lat': 35.7862546, 'ProviderId': '340069', 'lng': -78.5875595}, {'lat': 33.8377014, 'ProviderId': '050243', 'lng': -116.5453802}]\n"
       ]
      }
     ],
     "prompt_number": 8
    },
    {
     "cell_type": "code",
     "collapsed": false,
     "input": [],
     "language": "python",
     "metadata": {},
     "outputs": [],
     "prompt_number": 10
    },
    {
     "cell_type": "code",
     "collapsed": false,
     "input": [],
     "language": "python",
     "metadata": {},
     "outputs": [
      {
       "output_type": "stream",
       "stream": "stdout",
       "text": [
        "Trying to fetch store# 1 from http://www.mcpennsylvania.com/1\n",
        "  Read 9421 bytes"
       ]
      },
      {
       "output_type": "stream",
       "stream": "stdout",
       "text": [
        "\n",
        "  Store not found\n",
        "Trying to fetch store# 2 from http://www.mcpennsylvania.com/2\n",
        "  Read 9421 bytes"
       ]
      },
      {
       "output_type": "stream",
       "stream": "stdout",
       "text": [
        "\n",
        "  Store not found\n",
        "Trying to fetch store# 3 from http://www.mcpennsylvania.com/3\n",
        "  Read 16186 bytes"
       ]
      },
      {
       "output_type": "stream",
       "stream": "stdout",
       "text": [
        "\n",
        "  Address is 5725 Roosevelt Ave.|Woodside, NY 11377\n",
        "  Geocoded to {u'lat': 40.7455, u'lng': -73.9067122}"
       ]
      },
      {
       "output_type": "stream",
       "stream": "stdout",
       "text": [
        "\n",
        "Trying to fetch store# 4 from http://www.mcpennsylvania.com/4\n",
        "  Read 9421 bytes"
       ]
      },
      {
       "output_type": "stream",
       "stream": "stdout",
       "text": [
        "\n",
        "  Store not found\n",
        "Trying to fetch store# 5 from http://www.mcpennsylvania.com/5\n",
        "  Read 9421 bytes"
       ]
      },
      {
       "output_type": "stream",
       "stream": "stdout",
       "text": [
        "\n",
        "  Store not found\n",
        "Trying to fetch store# 6 from http://www.mcpennsylvania.com/6\n",
        "  Read 17528 bytes"
       ]
      },
      {
       "output_type": "stream",
       "stream": "stdout",
       "text": [
        "\n",
        "  Address is 7040 Theodore Dawes Rd|Theodore, AL 36582\n",
        "  Geocoded to {u'lat': 30.5611122, u'lng': -88.20657469999999}"
       ]
      },
      {
       "output_type": "stream",
       "stream": "stdout",
       "text": [
        "\n",
        "Trying to fetch store# 7 from http://www.mcpennsylvania.com/7\n",
        "  Read 16970 bytes"
       ]
      },
      {
       "output_type": "stream",
       "stream": "stdout",
       "text": [
        "\n",
        "  Address is 7501 Washington Ave|Ocean Springs, MS 39564\n",
        "  Geocoded to {u'lat': 30.4496173, u'lng': -88.8419512}"
       ]
      },
      {
       "output_type": "stream",
       "stream": "stdout",
       "text": [
        "\n",
        "Trying to fetch store# 8 from http://www.mcpennsylvania.com/8\n",
        "  Read 9421 bytes"
       ]
      },
      {
       "output_type": "stream",
       "stream": "stdout",
       "text": [
        "\n",
        "  Store not found\n",
        "Trying to fetch store# 9 from http://www.mcpennsylvania.com/9\n",
        "  Read 9421 bytes"
       ]
      },
      {
       "output_type": "stream",
       "stream": "stdout",
       "text": [
        "\n",
        "  Store not found\n",
        "Trying to fetch store# 10 from http://www.mcpennsylvania.com/10\n",
        "  Read 9425 bytes"
       ]
      },
      {
       "output_type": "stream",
       "stream": "stdout",
       "text": [
        "\n",
        "  Store not found\n",
        "Trying to fetch store# 11 from http://www.mcpennsylvania.com/11\n",
        "  Read 9425 bytes"
       ]
      },
      {
       "output_type": "stream",
       "stream": "stdout",
       "text": [
        "\n",
        "  Store not found\n",
        "Trying to fetch store# 12 from http://www.mcpennsylvania.com/12\n",
        "  Read 9425 bytes"
       ]
      },
      {
       "output_type": "stream",
       "stream": "stdout",
       "text": [
        "\n",
        "  Store not found\n",
        "Trying to fetch store# 13 from http://www.mcpennsylvania.com/13\n",
        "  Read 16725 bytes"
       ]
      },
      {
       "output_type": "stream",
       "stream": "stdout",
       "text": [
        "\n",
        "  Address is 1317 Castlehill Ave.|Bronx, NY 10462\n",
        "  Geocoded to {u'lat': 40.8345906, u'lng': -73.85221779999999}"
       ]
      },
      {
       "output_type": "stream",
       "stream": "stdout",
       "text": [
        "\n",
        "Trying to fetch store# 14 from http://www.mcpennsylvania.com/14\n",
        "  Read 15588 bytes"
       ]
      },
      {
       "output_type": "stream",
       "stream": "stdout",
       "text": [
        "\n",
        "  Address is 645 Rossville Ave.|Staten Island, NY 10309\n",
        "  Geocoded to {u'lat': 40.5427718, u'lng': -74.2078085}"
       ]
      },
      {
       "output_type": "stream",
       "stream": "stdout",
       "text": [
        "\n",
        "Trying to fetch store# 15 from http://www.mcpennsylvania.com/15\n",
        "  Read 16873 bytes"
       ]
      },
      {
       "output_type": "stream",
       "stream": "stdout",
       "text": [
        "\n",
        "  Address is 515 W. Broadway|Denver City, TX 79323\n",
        "  Geocoded to {u'lat': 32.9643856, u'lng': -102.8342272}"
       ]
      },
      {
       "output_type": "stream",
       "stream": "stdout",
       "text": [
        "\n",
        "Trying to fetch store# 16 from http://www.mcpennsylvania.com/16\n",
        "  Read 9425 bytes"
       ]
      },
      {
       "output_type": "stream",
       "stream": "stdout",
       "text": [
        "\n",
        "  Store not found\n",
        "Trying to fetch store# 17 from http://www.mcpennsylvania.com/17\n",
        "  Read 9425 bytes"
       ]
      },
      {
       "output_type": "stream",
       "stream": "stdout",
       "text": [
        "\n",
        "  Store not found\n",
        "Trying to fetch store# 18 from http://www.mcpennsylvania.com/18\n",
        "  Read 9425 bytes"
       ]
      },
      {
       "output_type": "stream",
       "stream": "stdout",
       "text": [
        "\n",
        "  Store not found\n",
        "Trying to fetch store# 19 from http://www.mcpennsylvania.com/19\n",
        "  Read 9425 bytes"
       ]
      },
      {
       "output_type": "stream",
       "stream": "stdout",
       "text": [
        "\n",
        "  Store not found\n",
        "Trying to fetch store# 20 from http://www.mcpennsylvania.com/20\n",
        "  Read 9425 bytes"
       ]
      },
      {
       "output_type": "stream",
       "stream": "stdout",
       "text": [
        "\n",
        "  Store not found\n",
        "Trying to fetch store# 21 from http://www.mcpennsylvania.com/21\n",
        "  Read 9425 bytes"
       ]
      },
      {
       "output_type": "stream",
       "stream": "stdout",
       "text": [
        "\n",
        "  Store not found\n",
        "Trying to fetch store# 22 from http://www.mcpennsylvania.com/22\n",
        "  Read 16999 bytes"
       ]
      },
      {
       "output_type": "stream",
       "stream": "stdout",
       "text": [
        "\n",
        "  Address is 310 31st Ave. SE,| Walmart,|Puyallup, WA 98374\n",
        "  Geocoded to {u'lat': 47.1853785, u'lng': -122.2928974}"
       ]
      },
      {
       "output_type": "stream",
       "stream": "stdout",
       "text": [
        "\n",
        "Trying to fetch store# 23 from http://www.mcpennsylvania.com/23\n",
        "  Read 9425 bytes"
       ]
      },
      {
       "output_type": "stream",
       "stream": "stdout",
       "text": [
        "\n",
        "  Store not found\n",
        "Trying to fetch store# 24 from http://www.mcpennsylvania.com/24\n",
        "  Read 9425 bytes"
       ]
      },
      {
       "output_type": "stream",
       "stream": "stdout",
       "text": [
        "\n",
        "  Store not found\n",
        "Trying to fetch store# 25 from http://www.mcpennsylvania.com/25\n",
        "  Read 9425 bytes"
       ]
      },
      {
       "output_type": "stream",
       "stream": "stdout",
       "text": [
        "\n",
        "  Store not found\n",
        "Trying to fetch store# 26 from http://www.mcpennsylvania.com/26\n",
        "  Read 15547 bytes"
       ]
      },
      {
       "output_type": "stream",
       "stream": "stdout",
       "text": [
        "\n",
        "  Address is 4320 N. Cicero|Chicago, IL 60651\n",
        "  Geocoded to {u'lat': 41.9593144, u'lng': -87.7479075}"
       ]
      },
      {
       "output_type": "stream",
       "stream": "stdout",
       "text": [
        "\n",
        "Trying to fetch store# 27 from http://www.mcpennsylvania.com/27\n",
        "  Read 9425 bytes"
       ]
      },
      {
       "output_type": "stream",
       "stream": "stdout",
       "text": [
        "\n",
        "  Store not found\n",
        "Trying to fetch store# 28 from http://www.mcpennsylvania.com/28\n",
        "  Read 19818 bytes"
       ]
      },
      {
       "output_type": "stream",
       "stream": "stdout",
       "text": [
        "\n",
        "  Address is 4830 Dempster St.|Skokie, IL 60077\n",
        "  Geocoded to {u'lat': 42.0410551, u'lng': -87.74862809999999}"
       ]
      },
      {
       "output_type": "stream",
       "stream": "stdout",
       "text": [
        "\n",
        "Trying to fetch store# 29 from http://www.mcpennsylvania.com/29\n",
        "  Read 15555 bytes"
       ]
      },
      {
       "output_type": "stream",
       "stream": "stdout",
       "text": [
        "\n",
        "  Address is 6560 S. Stoney Island Ave.|Chicago, IL 60837\n",
        "  Geocoded to {u'lat': 41.7756657, u'lng': -87.58636299999999}"
       ]
      },
      {
       "output_type": "stream",
       "stream": "stdout",
       "text": [
        "\n",
        "Wrote 10 locations to /home/larbi/Dropbox/pipeline/05-839_bytes/byte4/mcdonalds_locations.json\n",
        "Trying to fetch store# 30 from http://www.mcpennsylvania.com/30\n",
        "  Read 9425 bytes"
       ]
      },
      {
       "output_type": "stream",
       "stream": "stdout",
       "text": [
        "\n",
        "  Store not found\n",
        "Trying to fetch store# 31 from http://www.mcpennsylvania.com/31\n",
        "  Read 9425 bytes"
       ]
      },
      {
       "output_type": "stream",
       "stream": "stdout",
       "text": [
        "\n",
        "  Store not found\n",
        "Trying to fetch store# 32 from http://www.mcpennsylvania.com/32\n",
        "  Read 15168 bytes"
       ]
      },
      {
       "output_type": "stream",
       "stream": "stdout",
       "text": [
        "\n",
        "  Address is 444 S. River Rd.|Des Plaines, IL 60016\n",
        "  Geocoded to {u'lat': 42.0452999, u'lng': -87.88551939999999}"
       ]
      },
      {
       "output_type": "stream",
       "stream": "stdout",
       "text": [
        "\n",
        "Trying to fetch store# 33 from http://www.mcpennsylvania.com/33\n",
        "  Read 9425 bytes"
       ]
      },
      {
       "output_type": "stream",
       "stream": "stdout",
       "text": [
        "\n",
        "  Store not found\n",
        "Trying to fetch store# 34 from http://www.mcpennsylvania.com/34\n",
        "  Read 9425 bytes"
       ]
      },
      {
       "output_type": "stream",
       "stream": "stdout",
       "text": [
        "\n",
        "  Store not found\n",
        "Trying to fetch store# 35 from http://www.mcpennsylvania.com/35\n",
        "  Read 9425 bytes"
       ]
      },
      {
       "output_type": "stream",
       "stream": "stdout",
       "text": [
        "\n",
        "  Store not found\n",
        "Trying to fetch store# 36 from http://www.mcpennsylvania.com/36\n",
        "  Read 9425 bytes"
       ]
      },
      {
       "output_type": "stream",
       "stream": "stdout",
       "text": [
        "\n",
        "  Store not found\n",
        "Trying to fetch store# 37 from http://www.mcpennsylvania.com/37\n",
        "  Read 17212 bytes"
       ]
      },
      {
       "output_type": "stream",
       "stream": "stdout",
       "text": [
        "\n",
        "  Address is 3115 N. Blackstone Ave.|Fresno, CA 93703\n",
        "  Geocoded to {u'lat': 36.7789461, u'lng': -119.7908846}"
       ]
      },
      {
       "output_type": "stream",
       "stream": "stdout",
       "text": [
        "\n",
        "Trying to fetch store# 38 from http://www.mcpennsylvania.com/38\n",
        "  Read 17546 bytes"
       ]
      },
      {
       "output_type": "stream",
       "stream": "stdout",
       "text": [
        "\n",
        "  Address is 18761 Sherman Way|Reseda, CA 91335\n",
        "  Geocoded to {u'lat': 34.2014262, u'lng': -118.542322}"
       ]
      },
      {
       "output_type": "stream",
       "stream": "stdout",
       "text": [
        "\n",
        "Trying to fetch store# 39 from http://www.mcpennsylvania.com/39\n",
        "  Read 16146 bytes"
       ]
      },
      {
       "output_type": "stream",
       "stream": "stdout",
       "text": [
        "\n",
        "  Address is 6904 La Tijera Blvd.|Los Angeles, CA 90045\n",
        "  Geocoded to {u'lat': 33.975492, u'lng': -118.373305}"
       ]
      },
      {
       "output_type": "stream",
       "stream": "stdout",
       "text": [
        "\n",
        "Trying to fetch store# 40 from http://www.mcpennsylvania.com/40\n",
        "  Read 16443 bytes"
       ]
      },
      {
       "output_type": "stream",
       "stream": "stdout",
       "text": [
        "\n",
        "  Address is 4950 South Dakota Avenue, N.E.|Washington, DC 20017\n",
        "  Geocoded to {u'lat': 38.94946530000001, u'lng': -76.9933493}"
       ]
      },
      {
       "output_type": "stream",
       "stream": "stdout",
       "text": [
        "\n",
        "Trying to fetch store# 41 from http://www.mcpennsylvania.com/41\n",
        "  Read 9425 bytes"
       ]
      },
      {
       "output_type": "stream",
       "stream": "stdout",
       "text": [
        "\n",
        "  Store not found\n",
        "Trying to fetch store# 42 from http://www.mcpennsylvania.com/42\n",
        "  Read 9425 bytes"
       ]
      },
      {
       "output_type": "stream",
       "stream": "stdout",
       "text": [
        "\n",
        "  Store not found\n",
        "Trying to fetch store# 43 from http://www.mcpennsylvania.com/43\n",
        "  Read 9425 bytes"
       ]
      },
      {
       "output_type": "stream",
       "stream": "stdout",
       "text": [
        "\n",
        "  Store not found\n",
        "Trying to fetch store# 44 from http://www.mcpennsylvania.com/44\n",
        "  Read 9425 bytes"
       ]
      },
      {
       "output_type": "stream",
       "stream": "stdout",
       "text": [
        "\n",
        "  Store not found\n",
        "Trying to fetch store# 45 from http://www.mcpennsylvania.com/45\n",
        "  Read 9425 bytes"
       ]
      },
      {
       "output_type": "stream",
       "stream": "stdout",
       "text": [
        "\n",
        "  Store not found\n",
        "Trying to fetch store# 46 from http://www.mcpennsylvania.com/46\n",
        "  Read 9425 bytes"
       ]
      },
      {
       "output_type": "stream",
       "stream": "stdout",
       "text": [
        "\n",
        "  Store not found\n",
        "Trying to fetch store# 47 from http://www.mcpennsylvania.com/47\n",
        "  Read 17409 bytes"
       ]
      },
      {
       "output_type": "stream",
       "stream": "stdout",
       "text": [
        "\n",
        "  Address is 5425 Fruitridge Rd|Sacramento, CA 95820\n",
        "  Geocoded to {u'lat': 38.525314, u'lng': -121.441833}"
       ]
      },
      {
       "output_type": "stream",
       "stream": "stdout",
       "text": [
        "\n",
        "Trying to fetch store# 48 from http://www.mcpennsylvania.com/48\n",
        "  Read 9425 bytes"
       ]
      },
      {
       "output_type": "stream",
       "stream": "stdout",
       "text": [
        "\n",
        "  Store not found\n",
        "Trying to fetch store# 49 from http://www.mcpennsylvania.com/49\n",
        "  Read 15959 bytes"
       ]
      },
      {
       "output_type": "stream",
       "stream": "stdout",
       "text": [
        "\n",
        "  Address is 1515 W. Jefferson|Joliet, IL 60435\n",
        "  Geocoded to {u'lat': 41.52313609999999, u'lng': -88.1195054}"
       ]
      },
      {
       "output_type": "stream",
       "stream": "stdout",
       "text": [
        "\n",
        "Trying to fetch store# 50 from http://www.mcpennsylvania.com/50\n",
        "  Read 9425 bytes"
       ]
      },
      {
       "output_type": "stream",
       "stream": "stdout",
       "text": [
        "\n",
        "  Store not found\n",
        "Trying to fetch store# 51 from http://www.mcpennsylvania.com/51\n",
        "  Read 9425 bytes"
       ]
      },
      {
       "output_type": "stream",
       "stream": "stdout",
       "text": [
        "\n",
        "  Store not found\n",
        "Trying to fetch store# 52 from http://www.mcpennsylvania.com/52\n",
        "  Read 16971 bytes"
       ]
      },
      {
       "output_type": "stream",
       "stream": "stdout",
       "text": [
        "\n",
        "  Address is 12542 Harbor Blvd.|Garden Grove, CA 92840\n",
        "  Geocoded to {u'lat': 33.780875, u'lng': -117.914369}"
       ]
      },
      {
       "output_type": "stream",
       "stream": "stdout",
       "text": [
        "\n",
        "Trying to fetch store# 53 from http://www.mcpennsylvania.com/53\n",
        "  Read 17629 bytes"
       ]
      },
      {
       "output_type": "stream",
       "stream": "stdout",
       "text": [
        "\n",
        "  Address is One E. North Ave.|Northlake, IL 60164\n",
        "  Geocoded to {u'lat': 41.906645, u'lng': -87.90289}"
       ]
      },
      {
       "output_type": "stream",
       "stream": "stdout",
       "text": [
        "\n",
        "Trying to fetch store# 54 from http://www.mcpennsylvania.com/54\n",
        "  Read 9425 bytes"
       ]
      },
      {
       "output_type": "stream",
       "stream": "stdout",
       "text": [
        "\n",
        "  Store not found\n",
        "Trying to fetch store# 55 from http://www.mcpennsylvania.com/55\n",
        "  Read 19922 bytes"
       ]
      },
      {
       "output_type": "stream",
       "stream": "stdout",
       "text": [
        "\n",
        "  Address is 225 Ogden Ave.|Downers Grove, IL 60515\n",
        "  Geocoded to {u'lat': 41.8096071, u'lng': -87.9920125}"
       ]
      },
      {
       "output_type": "stream",
       "stream": "stdout",
       "text": [
        "\n",
        "Wrote 20 locations to /home/larbi/Dropbox/pipeline/05-839_bytes/byte4/mcdonalds_locations.json\n",
        "Trying to fetch store# 56 from http://www.mcpennsylvania.com/56\n",
        "  Read 16254 bytes"
       ]
      },
      {
       "output_type": "stream",
       "stream": "stdout",
       "text": [
        "\n",
        "  Address is 3241 W. Peterseon Ave|Chicago, IL 60645\n",
        "  Geocoded to {u'lat': 41.99002240000001, u'lng': -87.71054250000002}"
       ]
      },
      {
       "output_type": "stream",
       "stream": "stdout",
       "text": [
        "\n",
        "Trying to fetch store# 57 from http://www.mcpennsylvania.com/57\n",
        "  Read 16914 bytes"
       ]
      },
      {
       "output_type": "stream",
       "stream": "stdout",
       "text": [
        "\n",
        "  Address is 7614 Richmond Highway|Alexandria, VA 22306\n",
        "  Geocoded to {u'lat': 38.750952, u'lng': -77.08363419999999}"
       ]
      },
      {
       "output_type": "stream",
       "stream": "stdout",
       "text": [
        "\n",
        "Trying to fetch store# 58 from http://www.mcpennsylvania.com/58\n",
        "  Read 9425 bytes"
       ]
      },
      {
       "output_type": "stream",
       "stream": "stdout",
       "text": [
        "\n",
        "  Store not found\n",
        "Trying to fetch store# 59 from http://www.mcpennsylvania.com/59\n",
        "  Read 15969 bytes"
       ]
      },
      {
       "output_type": "stream",
       "stream": "stdout",
       "text": [
        "\n",
        "  Address is 656 River Oaks Dr.|Calumet City, IL 60409\n",
        "  Geocoded to {u'lat': 41.60040840000001, u'lng': -87.54098839999999}"
       ]
      },
      {
       "output_type": "stream",
       "stream": "stdout",
       "text": [
        "\n",
        "Trying to fetch store# 60 from http://www.mcpennsylvania.com/60\n",
        "  Read 9425 bytes"
       ]
      },
      {
       "output_type": "stream",
       "stream": "stdout",
       "text": [
        "\n",
        "  Store not found\n",
        "Trying to fetch store# 61 from http://www.mcpennsylvania.com/61\n",
        "  Read 18958 bytes"
       ]
      },
      {
       "output_type": "stream",
       "stream": "stdout",
       "text": [
        "\n",
        "  Address is 3020 Lehigh Street|Allentown, PA 18103\n",
        "  Geocoded to {u'lat': 40.55976099999999, u'lng': -75.487803}"
       ]
      },
      {
       "output_type": "stream",
       "stream": "stdout",
       "text": [
        "\n",
        "Trying to fetch store# 62 from http://www.mcpennsylvania.com/62\n",
        "  Read 9425 bytes"
       ]
      },
      {
       "output_type": "stream",
       "stream": "stdout",
       "text": [
        "\n",
        "  Store not found\n",
        "Trying to fetch store# 63 from http://www.mcpennsylvania.com/63\n",
        "  Read 20129 bytes"
       ]
      },
      {
       "output_type": "stream",
       "stream": "stdout",
       "text": [
        "\n",
        "  Address is 2075 Snelling Ave., North|Roseville, MN 55113\n",
        "  Geocoded to {u'lat': 45.003603, u'lng': -93.1675039}"
       ]
      },
      {
       "output_type": "stream",
       "stream": "stdout",
       "text": [
        "\n",
        "Trying to fetch store# 64 from http://www.mcpennsylvania.com/64\n",
        "  Read 9425 bytes"
       ]
      },
      {
       "output_type": "stream",
       "stream": "stdout",
       "text": [
        "\n",
        "  Store not found\n",
        "Trying to fetch store# 65 from http://www.mcpennsylvania.com/65\n",
        "  Read 9425 bytes"
       ]
      },
      {
       "output_type": "stream",
       "stream": "stdout",
       "text": [
        "\n",
        "  Store not found\n",
        "Trying to fetch store# 66 from http://www.mcpennsylvania.com/66\n",
        "  Read 16908 bytes"
       ]
      },
      {
       "output_type": "stream",
       "stream": "stdout",
       "text": [
        "\n",
        "  Address is 5425 West North Bend Road|Cincinnati, OH 45239\n",
        "  Geocoded to {u'lat': 39.1907642, u'lng': -84.5993034}"
       ]
      },
      {
       "output_type": "stream",
       "stream": "stdout",
       "text": [
        "\n",
        "Trying to fetch store# 67 from http://www.mcpennsylvania.com/67\n",
        "  Read 9425 bytes"
       ]
      },
      {
       "output_type": "stream",
       "stream": "stdout",
       "text": [
        "\n",
        "  Store not found\n",
        "Trying to fetch store# 68 from http://www.mcpennsylvania.com/68\n",
        "  Read 17933 bytes"
       ]
      },
      {
       "output_type": "stream",
       "stream": "stdout",
       "text": [
        "\n",
        "  Address is 8056 Sheridan Rd|Kenosha, WI 53142\n",
        "  Geocoded to {u'lat': 42.5571308, u'lng': -87.8253575}"
       ]
      },
      {
       "output_type": "stream",
       "stream": "stdout",
       "text": [
        "\n",
        "Trying to fetch store# 69 from http://www.mcpennsylvania.com/69\n",
        "  Read 9425 bytes"
       ]
      },
      {
       "output_type": "stream",
       "stream": "stdout",
       "text": [
        "\n",
        "  Store not found\n",
        "Trying to fetch store# 70 from http://www.mcpennsylvania.com/70\n",
        "  Read 24362 bytes"
       ]
      },
      {
       "output_type": "stream",
       "stream": "stdout",
       "text": [
        "\n",
        "  Address is 4849 McKnight Rd.|Pittsburgh, PA 15237\n"
       ]
      },
      {
       "ename": "KeyboardInterrupt",
       "evalue": "",
       "output_type": "pyerr",
       "traceback": [
        "\u001b[1;31m---------------------------------------------------------------------------\u001b[0m\n\u001b[1;31mKeyboardInterrupt\u001b[0m                         Traceback (most recent call last)",
        "\u001b[1;32m<ipython-input-11-b9b5c54ad74d>\u001b[0m in \u001b[0;36m<module>\u001b[1;34m()\u001b[0m\n\u001b[0;32m     10\u001b[0m \u001b[1;33m\u001b[0m\u001b[0m\n\u001b[0;32m     11\u001b[0m \u001b[1;32mfor\u001b[0m \u001b[0mstore_number\u001b[0m \u001b[1;32min\u001b[0m \u001b[0mrange\u001b[0m\u001b[1;33m(\u001b[0m\u001b[0mstarting_store\u001b[0m\u001b[1;33m,\u001b[0m \u001b[0mlast_store\u001b[0m \u001b[1;33m+\u001b[0m \u001b[1;36m1\u001b[0m\u001b[1;33m)\u001b[0m\u001b[1;33m:\u001b[0m\u001b[1;33m\u001b[0m\u001b[0m\n\u001b[1;32m---> 12\u001b[1;33m     \u001b[0mlocation\u001b[0m \u001b[1;33m=\u001b[0m \u001b[0mscrape_store\u001b[0m\u001b[1;33m(\u001b[0m\u001b[0mstore_number\u001b[0m\u001b[1;33m)\u001b[0m\u001b[1;33m\u001b[0m\u001b[0m\n\u001b[0m\u001b[0;32m     13\u001b[0m     \u001b[1;32mif\u001b[0m \u001b[0mlocation\u001b[0m\u001b[1;33m:\u001b[0m\u001b[1;33m\u001b[0m\u001b[0m\n\u001b[0;32m     14\u001b[0m         \u001b[0mlocations\u001b[0m\u001b[1;33m.\u001b[0m\u001b[0mappend\u001b[0m\u001b[1;33m(\u001b[0m\u001b[0mlocation\u001b[0m\u001b[1;33m)\u001b[0m\u001b[1;33m\u001b[0m\u001b[0m\n",
        "\u001b[1;32m<ipython-input-6-7f60e60d5753>\u001b[0m in \u001b[0;36mscrape_store\u001b[1;34m(store_number)\u001b[0m\n\u001b[0;32m     38\u001b[0m         \u001b[0mlocation\u001b[0m \u001b[1;33m=\u001b[0m \u001b[1;33m{\u001b[0m\u001b[1;34m'store_number'\u001b[0m\u001b[1;33m:\u001b[0m \u001b[0mstore_number\u001b[0m\u001b[1;33m,\u001b[0m \u001b[1;34m'address'\u001b[0m\u001b[1;33m:\u001b[0m \u001b[0maddress\u001b[0m\u001b[1;33m}\u001b[0m\u001b[1;33m\u001b[0m\u001b[0m\n\u001b[0;32m     39\u001b[0m         \u001b[1;32mprint\u001b[0m \u001b[1;34m'  Address is %s'\u001b[0m \u001b[1;33m%\u001b[0m \u001b[0maddress\u001b[0m\u001b[1;33m.\u001b[0m\u001b[0mreplace\u001b[0m\u001b[1;33m(\u001b[0m\u001b[1;34m'\\n'\u001b[0m\u001b[1;33m,\u001b[0m \u001b[1;34m'|'\u001b[0m\u001b[1;33m)\u001b[0m\u001b[1;33m\u001b[0m\u001b[0m\n\u001b[1;32m---> 40\u001b[1;33m         \u001b[0mlatlng\u001b[0m \u001b[1;33m=\u001b[0m \u001b[0mgeocode\u001b[0m\u001b[1;33m(\u001b[0m\u001b[0maddress\u001b[0m\u001b[1;33m)\u001b[0m\u001b[1;33m\u001b[0m\u001b[0m\n\u001b[0m\u001b[0;32m     41\u001b[0m         \u001b[1;32mif\u001b[0m \u001b[0mlatlng\u001b[0m\u001b[1;33m:\u001b[0m\u001b[1;33m\u001b[0m\u001b[0m\n\u001b[0;32m     42\u001b[0m             \u001b[1;32mprint\u001b[0m \u001b[1;34m'  Geocoded to %s'\u001b[0m \u001b[1;33m%\u001b[0m \u001b[0mlatlng\u001b[0m\u001b[1;33m\u001b[0m\u001b[0m\n",
        "\u001b[1;32m<ipython-input-3-816c554d3ebc>\u001b[0m in \u001b[0;36mgeocode\u001b[1;34m(address)\u001b[0m\n\u001b[0;32m     22\u001b[0m     \u001b[1;31m# Perform API call to maps.googleapis.com, which will return address in JSON format\u001b[0m\u001b[1;33m\u001b[0m\u001b[1;33m\u001b[0m\u001b[0m\n\u001b[0;32m     23\u001b[0m     \u001b[0murl\u001b[0m \u001b[1;33m=\u001b[0m \u001b[1;34m'http://maps.googleapis.com/maps/api/geocode/json?%s'\u001b[0m \u001b[1;33m%\u001b[0m \u001b[0murllib\u001b[0m\u001b[1;33m.\u001b[0m\u001b[0murlencode\u001b[0m\u001b[1;33m(\u001b[0m\u001b[1;33m{\u001b[0m\u001b[1;34m'address'\u001b[0m\u001b[1;33m:\u001b[0m \u001b[0maddress\u001b[0m\u001b[1;33m,\u001b[0m \u001b[1;34m'sensor'\u001b[0m\u001b[1;33m:\u001b[0m \u001b[1;34m'false'\u001b[0m\u001b[1;33m}\u001b[0m\u001b[1;33m)\u001b[0m\u001b[1;33m\u001b[0m\u001b[0m\n\u001b[1;32m---> 24\u001b[1;33m     \u001b[0mgeocode\u001b[0m \u001b[1;33m=\u001b[0m \u001b[0mjson\u001b[0m\u001b[1;33m.\u001b[0m\u001b[0mloads\u001b[0m\u001b[1;33m(\u001b[0m\u001b[0murllib2\u001b[0m\u001b[1;33m.\u001b[0m\u001b[0murlopen\u001b[0m\u001b[1;33m(\u001b[0m\u001b[0murl\u001b[0m\u001b[1;33m)\u001b[0m\u001b[1;33m.\u001b[0m\u001b[0mread\u001b[0m\u001b[1;33m(\u001b[0m\u001b[1;33m)\u001b[0m\u001b[1;33m)\u001b[0m\u001b[1;33m\u001b[0m\u001b[0m\n\u001b[0m\u001b[0;32m     25\u001b[0m     \u001b[1;32mif\u001b[0m \u001b[0mgeocode\u001b[0m\u001b[1;33m[\u001b[0m\u001b[1;34m'status'\u001b[0m\u001b[1;33m]\u001b[0m \u001b[1;33m==\u001b[0m \u001b[1;34m'OK'\u001b[0m \u001b[1;32mand\u001b[0m \u001b[0mgeocode\u001b[0m\u001b[1;33m[\u001b[0m\u001b[1;34m'results'\u001b[0m\u001b[1;33m]\u001b[0m\u001b[1;33m:\u001b[0m\u001b[1;33m\u001b[0m\u001b[0m\n\u001b[0;32m     26\u001b[0m         \u001b[1;31m# Success!  Return the first result\u001b[0m\u001b[1;33m\u001b[0m\u001b[1;33m\u001b[0m\u001b[0m\n",
        "\u001b[1;32m/usr/lib/python2.7/urllib2.pyc\u001b[0m in \u001b[0;36murlopen\u001b[1;34m(url, data, timeout)\u001b[0m\n\u001b[0;32m    125\u001b[0m     \u001b[1;32mif\u001b[0m \u001b[0m_opener\u001b[0m \u001b[1;32mis\u001b[0m \u001b[0mNone\u001b[0m\u001b[1;33m:\u001b[0m\u001b[1;33m\u001b[0m\u001b[0m\n\u001b[0;32m    126\u001b[0m         \u001b[0m_opener\u001b[0m \u001b[1;33m=\u001b[0m \u001b[0mbuild_opener\u001b[0m\u001b[1;33m(\u001b[0m\u001b[1;33m)\u001b[0m\u001b[1;33m\u001b[0m\u001b[0m\n\u001b[1;32m--> 127\u001b[1;33m     \u001b[1;32mreturn\u001b[0m \u001b[0m_opener\u001b[0m\u001b[1;33m.\u001b[0m\u001b[0mopen\u001b[0m\u001b[1;33m(\u001b[0m\u001b[0murl\u001b[0m\u001b[1;33m,\u001b[0m \u001b[0mdata\u001b[0m\u001b[1;33m,\u001b[0m \u001b[0mtimeout\u001b[0m\u001b[1;33m)\u001b[0m\u001b[1;33m\u001b[0m\u001b[0m\n\u001b[0m\u001b[0;32m    128\u001b[0m \u001b[1;33m\u001b[0m\u001b[0m\n\u001b[0;32m    129\u001b[0m \u001b[1;32mdef\u001b[0m \u001b[0minstall_opener\u001b[0m\u001b[1;33m(\u001b[0m\u001b[0mopener\u001b[0m\u001b[1;33m)\u001b[0m\u001b[1;33m:\u001b[0m\u001b[1;33m\u001b[0m\u001b[0m\n",
        "\u001b[1;32m/usr/lib/python2.7/urllib2.pyc\u001b[0m in \u001b[0;36mopen\u001b[1;34m(self, fullurl, data, timeout)\u001b[0m\n\u001b[0;32m    402\u001b[0m             \u001b[0mreq\u001b[0m \u001b[1;33m=\u001b[0m \u001b[0mmeth\u001b[0m\u001b[1;33m(\u001b[0m\u001b[0mreq\u001b[0m\u001b[1;33m)\u001b[0m\u001b[1;33m\u001b[0m\u001b[0m\n\u001b[0;32m    403\u001b[0m \u001b[1;33m\u001b[0m\u001b[0m\n\u001b[1;32m--> 404\u001b[1;33m         \u001b[0mresponse\u001b[0m \u001b[1;33m=\u001b[0m \u001b[0mself\u001b[0m\u001b[1;33m.\u001b[0m\u001b[0m_open\u001b[0m\u001b[1;33m(\u001b[0m\u001b[0mreq\u001b[0m\u001b[1;33m,\u001b[0m \u001b[0mdata\u001b[0m\u001b[1;33m)\u001b[0m\u001b[1;33m\u001b[0m\u001b[0m\n\u001b[0m\u001b[0;32m    405\u001b[0m \u001b[1;33m\u001b[0m\u001b[0m\n\u001b[0;32m    406\u001b[0m         \u001b[1;31m# post-process response\u001b[0m\u001b[1;33m\u001b[0m\u001b[1;33m\u001b[0m\u001b[0m\n",
        "\u001b[1;32m/usr/lib/python2.7/urllib2.pyc\u001b[0m in \u001b[0;36m_open\u001b[1;34m(self, req, data)\u001b[0m\n\u001b[0;32m    420\u001b[0m         \u001b[0mprotocol\u001b[0m \u001b[1;33m=\u001b[0m \u001b[0mreq\u001b[0m\u001b[1;33m.\u001b[0m\u001b[0mget_type\u001b[0m\u001b[1;33m(\u001b[0m\u001b[1;33m)\u001b[0m\u001b[1;33m\u001b[0m\u001b[0m\n\u001b[0;32m    421\u001b[0m         result = self._call_chain(self.handle_open, protocol, protocol +\n\u001b[1;32m--> 422\u001b[1;33m                                   '_open', req)\n\u001b[0m\u001b[0;32m    423\u001b[0m         \u001b[1;32mif\u001b[0m \u001b[0mresult\u001b[0m\u001b[1;33m:\u001b[0m\u001b[1;33m\u001b[0m\u001b[0m\n\u001b[0;32m    424\u001b[0m             \u001b[1;32mreturn\u001b[0m \u001b[0mresult\u001b[0m\u001b[1;33m\u001b[0m\u001b[0m\n",
        "\u001b[1;32m/usr/lib/python2.7/urllib2.pyc\u001b[0m in \u001b[0;36m_call_chain\u001b[1;34m(self, chain, kind, meth_name, *args)\u001b[0m\n\u001b[0;32m    380\u001b[0m             \u001b[0mfunc\u001b[0m \u001b[1;33m=\u001b[0m \u001b[0mgetattr\u001b[0m\u001b[1;33m(\u001b[0m\u001b[0mhandler\u001b[0m\u001b[1;33m,\u001b[0m \u001b[0mmeth_name\u001b[0m\u001b[1;33m)\u001b[0m\u001b[1;33m\u001b[0m\u001b[0m\n\u001b[0;32m    381\u001b[0m \u001b[1;33m\u001b[0m\u001b[0m\n\u001b[1;32m--> 382\u001b[1;33m             \u001b[0mresult\u001b[0m \u001b[1;33m=\u001b[0m \u001b[0mfunc\u001b[0m\u001b[1;33m(\u001b[0m\u001b[1;33m*\u001b[0m\u001b[0margs\u001b[0m\u001b[1;33m)\u001b[0m\u001b[1;33m\u001b[0m\u001b[0m\n\u001b[0m\u001b[0;32m    383\u001b[0m             \u001b[1;32mif\u001b[0m \u001b[0mresult\u001b[0m \u001b[1;32mis\u001b[0m \u001b[1;32mnot\u001b[0m \u001b[0mNone\u001b[0m\u001b[1;33m:\u001b[0m\u001b[1;33m\u001b[0m\u001b[0m\n\u001b[0;32m    384\u001b[0m                 \u001b[1;32mreturn\u001b[0m \u001b[0mresult\u001b[0m\u001b[1;33m\u001b[0m\u001b[0m\n",
        "\u001b[1;32m/usr/lib/python2.7/urllib2.pyc\u001b[0m in \u001b[0;36mhttp_open\u001b[1;34m(self, req)\u001b[0m\n\u001b[0;32m   1212\u001b[0m \u001b[1;33m\u001b[0m\u001b[0m\n\u001b[0;32m   1213\u001b[0m     \u001b[1;32mdef\u001b[0m \u001b[0mhttp_open\u001b[0m\u001b[1;33m(\u001b[0m\u001b[0mself\u001b[0m\u001b[1;33m,\u001b[0m \u001b[0mreq\u001b[0m\u001b[1;33m)\u001b[0m\u001b[1;33m:\u001b[0m\u001b[1;33m\u001b[0m\u001b[0m\n\u001b[1;32m-> 1214\u001b[1;33m         \u001b[1;32mreturn\u001b[0m \u001b[0mself\u001b[0m\u001b[1;33m.\u001b[0m\u001b[0mdo_open\u001b[0m\u001b[1;33m(\u001b[0m\u001b[0mhttplib\u001b[0m\u001b[1;33m.\u001b[0m\u001b[0mHTTPConnection\u001b[0m\u001b[1;33m,\u001b[0m \u001b[0mreq\u001b[0m\u001b[1;33m)\u001b[0m\u001b[1;33m\u001b[0m\u001b[0m\n\u001b[0m\u001b[0;32m   1215\u001b[0m \u001b[1;33m\u001b[0m\u001b[0m\n\u001b[0;32m   1216\u001b[0m     \u001b[0mhttp_request\u001b[0m \u001b[1;33m=\u001b[0m \u001b[0mAbstractHTTPHandler\u001b[0m\u001b[1;33m.\u001b[0m\u001b[0mdo_request_\u001b[0m\u001b[1;33m\u001b[0m\u001b[0m\n",
        "\u001b[1;32m/usr/lib/python2.7/urllib2.pyc\u001b[0m in \u001b[0;36mdo_open\u001b[1;34m(self, http_class, req)\u001b[0m\n\u001b[0;32m   1185\u001b[0m         \u001b[1;32melse\u001b[0m\u001b[1;33m:\u001b[0m\u001b[1;33m\u001b[0m\u001b[0m\n\u001b[0;32m   1186\u001b[0m             \u001b[1;32mtry\u001b[0m\u001b[1;33m:\u001b[0m\u001b[1;33m\u001b[0m\u001b[0m\n\u001b[1;32m-> 1187\u001b[1;33m                 \u001b[0mr\u001b[0m \u001b[1;33m=\u001b[0m \u001b[0mh\u001b[0m\u001b[1;33m.\u001b[0m\u001b[0mgetresponse\u001b[0m\u001b[1;33m(\u001b[0m\u001b[0mbuffering\u001b[0m\u001b[1;33m=\u001b[0m\u001b[0mTrue\u001b[0m\u001b[1;33m)\u001b[0m\u001b[1;33m\u001b[0m\u001b[0m\n\u001b[0m\u001b[0;32m   1188\u001b[0m             \u001b[1;32mexcept\u001b[0m \u001b[0mTypeError\u001b[0m\u001b[1;33m:\u001b[0m \u001b[1;31m# buffering kw not supported\u001b[0m\u001b[1;33m\u001b[0m\u001b[0m\n\u001b[0;32m   1189\u001b[0m                 \u001b[0mr\u001b[0m \u001b[1;33m=\u001b[0m \u001b[0mh\u001b[0m\u001b[1;33m.\u001b[0m\u001b[0mgetresponse\u001b[0m\u001b[1;33m(\u001b[0m\u001b[1;33m)\u001b[0m\u001b[1;33m\u001b[0m\u001b[0m\n",
        "\u001b[1;32m/usr/lib/python2.7/httplib.pyc\u001b[0m in \u001b[0;36mgetresponse\u001b[1;34m(self, buffering)\u001b[0m\n\u001b[0;32m   1043\u001b[0m         \u001b[0mresponse\u001b[0m \u001b[1;33m=\u001b[0m \u001b[0mself\u001b[0m\u001b[1;33m.\u001b[0m\u001b[0mresponse_class\u001b[0m\u001b[1;33m(\u001b[0m\u001b[1;33m*\u001b[0m\u001b[0margs\u001b[0m\u001b[1;33m,\u001b[0m \u001b[1;33m**\u001b[0m\u001b[0mkwds\u001b[0m\u001b[1;33m)\u001b[0m\u001b[1;33m\u001b[0m\u001b[0m\n\u001b[0;32m   1044\u001b[0m \u001b[1;33m\u001b[0m\u001b[0m\n\u001b[1;32m-> 1045\u001b[1;33m         \u001b[0mresponse\u001b[0m\u001b[1;33m.\u001b[0m\u001b[0mbegin\u001b[0m\u001b[1;33m(\u001b[0m\u001b[1;33m)\u001b[0m\u001b[1;33m\u001b[0m\u001b[0m\n\u001b[0m\u001b[0;32m   1046\u001b[0m         \u001b[1;32massert\u001b[0m \u001b[0mresponse\u001b[0m\u001b[1;33m.\u001b[0m\u001b[0mwill_close\u001b[0m \u001b[1;33m!=\u001b[0m \u001b[0m_UNKNOWN\u001b[0m\u001b[1;33m\u001b[0m\u001b[0m\n\u001b[0;32m   1047\u001b[0m         \u001b[0mself\u001b[0m\u001b[1;33m.\u001b[0m\u001b[0m__state\u001b[0m \u001b[1;33m=\u001b[0m \u001b[0m_CS_IDLE\u001b[0m\u001b[1;33m\u001b[0m\u001b[0m\n",
        "\u001b[1;32m/usr/lib/python2.7/httplib.pyc\u001b[0m in \u001b[0;36mbegin\u001b[1;34m(self)\u001b[0m\n\u001b[0;32m    407\u001b[0m         \u001b[1;31m# read until we get a non-100 response\u001b[0m\u001b[1;33m\u001b[0m\u001b[1;33m\u001b[0m\u001b[0m\n\u001b[0;32m    408\u001b[0m         \u001b[1;32mwhile\u001b[0m \u001b[0mTrue\u001b[0m\u001b[1;33m:\u001b[0m\u001b[1;33m\u001b[0m\u001b[0m\n\u001b[1;32m--> 409\u001b[1;33m             \u001b[0mversion\u001b[0m\u001b[1;33m,\u001b[0m \u001b[0mstatus\u001b[0m\u001b[1;33m,\u001b[0m \u001b[0mreason\u001b[0m \u001b[1;33m=\u001b[0m \u001b[0mself\u001b[0m\u001b[1;33m.\u001b[0m\u001b[0m_read_status\u001b[0m\u001b[1;33m(\u001b[0m\u001b[1;33m)\u001b[0m\u001b[1;33m\u001b[0m\u001b[0m\n\u001b[0m\u001b[0;32m    410\u001b[0m             \u001b[1;32mif\u001b[0m \u001b[0mstatus\u001b[0m \u001b[1;33m!=\u001b[0m \u001b[0mCONTINUE\u001b[0m\u001b[1;33m:\u001b[0m\u001b[1;33m\u001b[0m\u001b[0m\n\u001b[0;32m    411\u001b[0m                 \u001b[1;32mbreak\u001b[0m\u001b[1;33m\u001b[0m\u001b[0m\n",
        "\u001b[1;32m/usr/lib/python2.7/httplib.pyc\u001b[0m in \u001b[0;36m_read_status\u001b[1;34m(self)\u001b[0m\n\u001b[0;32m    363\u001b[0m     \u001b[1;32mdef\u001b[0m \u001b[0m_read_status\u001b[0m\u001b[1;33m(\u001b[0m\u001b[0mself\u001b[0m\u001b[1;33m)\u001b[0m\u001b[1;33m:\u001b[0m\u001b[1;33m\u001b[0m\u001b[0m\n\u001b[0;32m    364\u001b[0m         \u001b[1;31m# Initialize with Simple-Response defaults\u001b[0m\u001b[1;33m\u001b[0m\u001b[1;33m\u001b[0m\u001b[0m\n\u001b[1;32m--> 365\u001b[1;33m         \u001b[0mline\u001b[0m \u001b[1;33m=\u001b[0m \u001b[0mself\u001b[0m\u001b[1;33m.\u001b[0m\u001b[0mfp\u001b[0m\u001b[1;33m.\u001b[0m\u001b[0mreadline\u001b[0m\u001b[1;33m(\u001b[0m\u001b[0m_MAXLINE\u001b[0m \u001b[1;33m+\u001b[0m \u001b[1;36m1\u001b[0m\u001b[1;33m)\u001b[0m\u001b[1;33m\u001b[0m\u001b[0m\n\u001b[0m\u001b[0;32m    366\u001b[0m         \u001b[1;32mif\u001b[0m \u001b[0mlen\u001b[0m\u001b[1;33m(\u001b[0m\u001b[0mline\u001b[0m\u001b[1;33m)\u001b[0m \u001b[1;33m>\u001b[0m \u001b[0m_MAXLINE\u001b[0m\u001b[1;33m:\u001b[0m\u001b[1;33m\u001b[0m\u001b[0m\n\u001b[0;32m    367\u001b[0m             \u001b[1;32mraise\u001b[0m \u001b[0mLineTooLong\u001b[0m\u001b[1;33m(\u001b[0m\u001b[1;34m\"header line\"\u001b[0m\u001b[1;33m)\u001b[0m\u001b[1;33m\u001b[0m\u001b[0m\n",
        "\u001b[1;32m/usr/lib/python2.7/socket.pyc\u001b[0m in \u001b[0;36mreadline\u001b[1;34m(self, size)\u001b[0m\n\u001b[0;32m    474\u001b[0m             \u001b[1;32mwhile\u001b[0m \u001b[0mTrue\u001b[0m\u001b[1;33m:\u001b[0m\u001b[1;33m\u001b[0m\u001b[0m\n\u001b[0;32m    475\u001b[0m                 \u001b[1;32mtry\u001b[0m\u001b[1;33m:\u001b[0m\u001b[1;33m\u001b[0m\u001b[0m\n\u001b[1;32m--> 476\u001b[1;33m                     \u001b[0mdata\u001b[0m \u001b[1;33m=\u001b[0m \u001b[0mself\u001b[0m\u001b[1;33m.\u001b[0m\u001b[0m_sock\u001b[0m\u001b[1;33m.\u001b[0m\u001b[0mrecv\u001b[0m\u001b[1;33m(\u001b[0m\u001b[0mself\u001b[0m\u001b[1;33m.\u001b[0m\u001b[0m_rbufsize\u001b[0m\u001b[1;33m)\u001b[0m\u001b[1;33m\u001b[0m\u001b[0m\n\u001b[0m\u001b[0;32m    477\u001b[0m                 \u001b[1;32mexcept\u001b[0m \u001b[0merror\u001b[0m\u001b[1;33m,\u001b[0m \u001b[0me\u001b[0m\u001b[1;33m:\u001b[0m\u001b[1;33m\u001b[0m\u001b[0m\n\u001b[0;32m    478\u001b[0m                     \u001b[1;32mif\u001b[0m \u001b[0me\u001b[0m\u001b[1;33m.\u001b[0m\u001b[0margs\u001b[0m\u001b[1;33m[\u001b[0m\u001b[1;36m0\u001b[0m\u001b[1;33m]\u001b[0m \u001b[1;33m==\u001b[0m \u001b[0mEINTR\u001b[0m\u001b[1;33m:\u001b[0m\u001b[1;33m\u001b[0m\u001b[0m\n",
        "\u001b[1;31mKeyboardInterrupt\u001b[0m: "
       ]
      }
     ],
     "prompt_number": 11
    },
    {
     "cell_type": "markdown",
     "metadata": {},
     "source": [
      "###Take a peek at mcdonalds_locations.json\n",
      "Fire up your favorite editor or file viewer and verify that mcdonalds_locations.json is looking reasonable."
     ]
    },
    {
     "cell_type": "markdown",
     "metadata": {},
     "source": [
      "###Displaying locations\n",
      "\n",
      "To display the Hospital locations on a map."
     ]
    },
    {
     "cell_type": "code",
     "collapsed": false,
     "input": [
      "# iframe_with_source is a utility function to let us insert HTML into an iframe\n",
      "# as an iPython result\n",
      "\n",
      "from IPython.display import HTML\n",
      "import json\n",
      "\n",
      "def iframe_with_source(source, height):\n",
      "    name = 'iframe-%d' % get_ipython().execution_count\n",
      "    source = json.dumps(source)\n",
      "    source = source.replace('</script', '</scr\"+\"ipt')\n",
      "    width = '100%'\n",
      "    height = '%spx' % height\n",
      "    template = \"\"\"\n",
      "<iframe id=\"%s\" style=\"width:%s; height:%s\"></iframe>\n",
      "<script>\n",
      "document.getElementById('%s').srcdoc = %s;\n",
      "</script>\n",
      "\"\"\"\n",
      "    # Fill in the %s slots with id, width, height, and the HTML source\n",
      "    return HTML(template % (name, width, height, name, source))"
     ],
     "language": "python",
     "metadata": {},
     "outputs": [],
     "prompt_number": 17
    },
    {
     "cell_type": "code",
     "collapsed": false,
     "input": [
      "# Try out iframe_with_source with a on trivially simple web page.  Note python's triple-quote syntax for multi-line strings.\n",
      "\n",
      "source = \"\"\"\n",
      "<html>\n",
      "  <body>\n",
      "    Hello world!\n",
      "  </body>\n",
      "</html>\"\"\"\n",
      "height = 100  # pixels\n",
      "iframe_with_source(source, height)\n",
      "\n",
      "\n",
      "\n",
      "\n"
     ],
     "language": "python",
     "metadata": {},
     "outputs": [
      {
       "html": [
        "\n",
        "<iframe id=\"iframe-18\" style=\"width:100%; height:100px\"></iframe>\n",
        "<script>\n",
        "document.getElementById('iframe-18').srcdoc = \"\\n<html>\\n  <body>\\n    Hello world!\\n  </body>\\n</html>\";\n",
        "</script>\n"
       ],
       "metadata": {},
       "output_type": "pyout",
       "prompt_number": 18,
       "text": [
        "<IPython.core.display.HTML at 0xb1b687ec>"
       ]
      }
     ],
     "prompt_number": 18
    },
    {
     "cell_type": "markdown",
     "metadata": {},
     "source": [
      "Next, we need to convert the store information into the JSON format our page is going to need."
     ]
    },
    {
     "cell_type": "code",
     "collapsed": false,
     "input": [
      "# Convert to Javascript series:  {latlng: [lat0, lng0, lat1, lng1, lat2, lng2 ...], index: [index0, index1, index2 ...]}\n",
      "javascript_latlng = []\n",
      "javascript_index = []\n",
      "for location in locations:\n",
      "    if 'lat' in location:\n",
      "        javascript_index.append(location['store_number'])\n",
      "        javascript_latlng.append(location['lat'])\n",
      "        javascript_latlng.append(location['lng'])\n",
      "javascript_series = \"// Data from %d locations, index %s - %s\\n\" % (len(javascript_index), javascript_index[0], javascript_index[-1])\n",
      "javascript_series += 'var mcDonalds = {\\n  latlng: new Float32Array(%s),\\n\\n  index: new Float32Array(%s)\\n};' % (json.dumps(javascript_latlng), json.dumps(javascript_index))\n",
      "print \"javascript_series contains %d locations and is %s bytes long\" % (len(javascript_index), len(javascript_series))"
     ],
     "language": "python",
     "metadata": {},
     "outputs": [
      {
       "output_type": "stream",
       "stream": "stdout",
       "text": [
        "javascript_series contains 9203 locations and is 302322 bytes long\n"
       ]
      }
     ],
     "prompt_number": 19
    },
    {
     "cell_type": "markdown",
     "metadata": {},
     "source": [
      "Here's the web page.  We'll construct it by sandwiching the JSON above between a header and footer.  Don't let the length of the javascript below scare you.  You can do pretty much all the customization you'll want inside the two functions init() and drawFrame().\n",
      "\n",
      "When you evaluate this code below, you should see an iframe with a Google map displaying an animation of McDonalds being built."
     ]
    },
    {
     "cell_type": "code",
     "collapsed": false,
     "input": [
      "# Construct HTML source for viewing page, with javascript_series inserted\n",
      "# Insert as an <iframe> to prevent conflicts between this code and the parent page.\n",
      "\n",
      "src = \"\"\"\n",
      "\n",
      "<html style=\"height:100%\">\n",
      "<head>\n",
      "    <script src=\"http://maps.googleapis.com/maps/api/js?sensor=false\"></script>\n",
      "    <script src=\"http://ajax.googleapis.com/ajax/libs/jquery/1.11.0/jquery.min.js\"></script>\n",
      "    <script src=\"http://api.cmucreatelab.org/exp-0.1/js/CanvasLayer.js\"></script>\n",
      "    <script src=\"http://api.cmucreatelab.org/exp-0.1/js/utils.js\"></script>\n",
      "    <script src=\"http://api.cmucreatelab.org/exp-0.1/js/series.js\"></script>\n",
      "    <script>\n",
      "\"\"\"\n",
      "\n",
      "src += javascript_series;\n",
      "\n",
      "src += \"\"\"\n",
      "      var map;\n",
      "      var canvasLayer;\n",
      "      var gl;\n",
      "      var pixelsToWebGLMatrix = new Float32Array(16);\n",
      "      var mapMatrix = new Float32Array(16);\n",
      "\n",
      "      var advancing = true; // true when in 'play' mode; false when paused\n",
      "\n",
      "      var lastTime = 0;\n",
      "      var totalElapsedTime = 0;\n",
      "      var fps = 50;\n",
      "\n",
      "      var currentIndex, minIndex, maxIndex;\n",
      "\n",
      "      function init() {\n",
      "\t// initialize the map\n",
      "\tvar mapOptions = {\n",
      "          zoom: 4,\n",
      "          center: new google.maps.LatLng(39.3, -95.8),\n",
      "\t};\n",
      "        var mapDiv = document.getElementById('map-div');\n",
      "\tmap = new google.maps.Map(mapDiv, mapOptions);\n",
      "\n",
      "        if (!initWebGL()) {\n",
      "          $('#map-div').append('<div align=\"center\" style=\"position: absolute; z-index:1000000; margin:50px; padding:10px; border-color:black; border-style:solid; border-width:1px; box-shadow:5px 5px 5px grey; background-color:white; font-size:20px\"><b>WebGL required</b><br>Please try using a browser that supports WebGL,<br>such as Chrome, Firefox, or Internet Explorer 11.</div>');\n",
      "        }\n",
      "\n",
      "        // Convert from latlng to xy for map, and set up shader programs\n",
      "        prepareSeries(gl, mcDonalds);\n",
      "\n",
      "        currentIndex = minIndex = mcDonalds.index[0];\n",
      "        maxIndex = mcDonalds.index[mcDonalds.index.length - 1];\n",
      "\n",
      "\n",
      "        google.maps.event.addListener(map, 'click', function(event) {\n",
      "              // Your code here\n",
      "              var sequ = findClosestElement(gl, mapMatrix, mcDonalds, event.pixel, 5);  \n",
      "            var storeno = mcDonalds.index[sequ.i];\n",
      "            var contentString = '<div id=\"content\">'+\n",
      "      '<div id=\"siteNotice\">'+\n",
      "      '</div>'+\n",
      "      '<h1 id=\"firstHeading\" class=\"firstHeading\">Restaurant info</h1>'+\n",
      "      '<div id=\"bodyContent\">'+\n",
      "      'store number '+\n",
      "      storeno +\n",
      "      '<p>Store webpage, <a href=\"http://www.mcpennsylvania.com/' + storeno + '\">link</a></p>'+\n",
      "      '</div>'+\n",
      "      '</div>';\n",
      "            console.log('find index lat ' + findIndex(sequ.lat,mcDonalds) );\n",
      "            console.log('find index lng ' + findIndex(sequ.lng,mcDonalds) );\n",
      "            \n",
      "            // Create an infoWindow\n",
      "            infoWindow = new google.maps.InfoWindow({\n",
      "            content: contentString,\n",
      "            position: new google.maps.LatLng(sequ.lat, sequ.lng)\n",
      "            });\n",
      "            \n",
      "            // Display it on the map\n",
      "            infoWindow.open(map);\n",
      "\n",
      "              console.log('Mouse clicked on pixel ' + event.pixel.x + ', ' + event.pixel.y);\n",
      "              \n",
      "              console.log(mcDonalds, sequ.lng);\n",
      "              // alert(JSON.stringify(mcDonalds))\n",
      "\n",
      "              for (i = 0; i < mcDonalds.xy.length-1; i+=2){\n",
      "                  //console.log(mcDonalds.xy[i] - sequ.lat);\n",
      "                  if (mcDonalds.xy[i] - sequ.lat < 1 && mcDonalds.xy[i] - sequ.lat > -1 && mcDonalds.xy[i+1] - sequ.lng < 1 && mcDonalds.xy[i+1] - sequ.lng > -1){\n",
      "                      console.log('found i');\n",
      "                  }\n",
      "              }\n",
      "              \n",
      "        });\n",
      "\n",
      "        initPlaybackControls();\n",
      "      }\n",
      "\n",
      "      function drawFrame() {\n",
      "        if (advancing) {\n",
      "          advanceCurrentIndex();\n",
      "        }\n",
      "\n",
      "        // Use additive blending mode.  As we draw overlapping pixels, color values\n",
      "        // are added and then clamped to go no higher than 1.  This has the effect of\n",
      "        // making overlapped areas brighter, approaching white (assuming use of colors\n",
      "        // which are non-zero in each of R, G, B)\n",
      "\n",
      "        gl.enable(gl.BLEND);\n",
      "        gl.blendFunc( gl.SRC_ALPHA, gl.ONE );\n",
      "\n",
      "        // Compute WebGL transform from world xy coords to screen\n",
      "        // copy pixel->webgl matrix\n",
      "        mapMatrix.set(pixelsToWebGLMatrix);\n",
      "\n",
      "        var scale = canvasLayer.getMapScale();\n",
      "        scaleMatrix(mapMatrix, scale, scale);\n",
      "\n",
      "        var translation = canvasLayer.getMapTranslation();\n",
      "        translateMatrix(mapMatrix, translation.x, translation.y);\n",
      "\n",
      "        // Erase frame\n",
      "        gl.clear(gl.COLOR_BUFFER_BIT);\n",
      "\n",
      "        // Compute point diameter, in pixels, based on zoom level\n",
      "\n",
      "        // map.zoom is approx 4 at country level\n",
      "        // How many pixels in diameter should marker be when map zoomed to country level?\n",
      "        var countryPointSizePixels = 3;\n",
      "\n",
      "        // map.zoom is approx 18 at block level\n",
      "        // How many pixels in diameter should marker be when map zoomed to block level?\n",
      "        var blockPointSizePixels = 90;\n",
      "\n",
      "        var pointSize = countryPointSizePixels * Math.pow(blockPointSizePixels / countryPointSizePixels, (map.zoom - 4) / (18 - 4));\n",
      "        var color = [.82, .22, .07, 1.0]; // RGBA, orange\n",
      "\n",
      "        // How much of the marker's radius do we draw at alpha=1, before starting the slope to alpha=0?\n",
      "        // 0 is very soft, 0.95 is a hard circle with well-defined edge\n",
      "        var hardFraction = 0.4;  \n",
      "\n",
      "        drawPoints(gl, mapMatrix, mcDonalds, 0, findIndex(currentIndex, mcDonalds), \n",
      "                   {color: color, pointSize: pointSize, hardFraction: hardFraction});\n",
      "      }\n",
      "      \n",
      "      function advanceCurrentIndex() {\n",
      "        var timeNow = new Date().getTime();\n",
      "        if (lastTime != 0) {\n",
      "          var elapsed = timeNow - lastTime;\n",
      "          totalElapsedTime += elapsed;\n",
      "        }\n",
      "        lastTime = timeNow;\n",
      "\n",
      "        if (totalElapsedTime > 1000 / fps) {\n",
      "          totalElapsedTime = 0;\n",
      "          var newIndex = currentIndex + 100;\n",
      "          if (newIndex >= maxIndex) {\n",
      "            // TODO(rsargent): implement delay at beginning and end\n",
      "            newIndex = 0;\n",
      "          }\n",
      "          playbackSetIndex(newIndex);\n",
      "        }\n",
      "      }\n",
      "\n",
      "      function initWebGL() {\n",
      "        // initialize the canvasLayer\n",
      "        var canvasLayerOptions = {\n",
      "          map: map,\n",
      "          resizeHandler: resize,\n",
      "          animate: true,\n",
      "          updateHandler: drawFrame\n",
      "        };\n",
      "        canvasLayer = new CanvasLayer(canvasLayerOptions);\n",
      "\n",
      "        window.addEventListener('resize', function () {  google.maps.event.trigger(map, 'resize') }, false);\n",
      "\n",
      "        // initialize WebGL\n",
      "        gl = canvasLayer.canvas.getContext('experimental-webgl');\n",
      "        return !!gl;\n",
      "      }\n",
      "\n",
      "      function initPlaybackControls() {\n",
      "        $('#playback-play-pause-button').click(function() {\n",
      "          advancing = (this.textContent == 'Play');\n",
      "          this.textContent = advancing ? 'Pause' : 'Play';\n",
      "        });\n",
      "\n",
      "        $('#playback-range')\n",
      "          .on(\"input change\", function() {\n",
      "            console.log('change, yeah');\n",
      "            playbackSetIndex(this.valueAsNumber);\n",
      "          })\n",
      "          .mousedown(function() {\n",
      "            advancing = false;\n",
      "          })\n",
      "          .mouseup(function() {\n",
      "            if ($('#playback-play-pause-button').text() == 'Pause') {\n",
      "              advancing = true;\n",
      "            }\n",
      "          });\n",
      "      }\n",
      "\n",
      "      function playbackSetIndex(newIndex) {\n",
      "        currentIndex = newIndex;\n",
      "        $('#playback-display').text(currentIndex);\n",
      "        $('#playback-range').val(currentIndex);\n",
      "      }\n",
      "\n",
      "      function resize() {\n",
      "        var w = canvasLayer.canvas.width;\n",
      "        var h = canvasLayer.canvas.height;\n",
      "\n",
      "        // Extend viewport to entire canvas\n",
      "        gl.viewport(0, 0, w, h);\n",
      "\n",
      "        // Map canvas pixel coordinates to WebGL coordinates\n",
      "        pixelsToWebGLMatrix.set([2/w, 0,   0, 0,\n",
      "                                 0,  -2/h, 0, 0,\n",
      "                                 0,   0,   1, 0,\n",
      "                                -1,   1,   0, 1]);\n",
      "      }\n",
      "\n",
      "      $(init);\n",
      "    </script>\n",
      "\n",
      "    <script id=\"pointVertexShader\" type=\"x-shader/x-vertex\">\n",
      "      attribute vec4 worldCoord;\n",
      "      attribute float aPointSize;\n",
      "\n",
      "      uniform mat4 mapMatrix;\n",
      "\n",
      "      void main() {\n",
      "        // transform world coordinate by matrix uniform variable\n",
      "        gl_Position = mapMatrix * worldCoord;\n",
      "\n",
      "        // a constant size for points, regardless of zoom level\n",
      "        gl_PointSize = aPointSize;\n",
      "      }\n",
      "    </script>\n",
      "    <script id=\"pointFragmentShader\" type=\"x-shader/x-fragment\">\n",
      "      precision mediump float;\n",
      "      uniform vec4 color;\n",
      "      uniform float hardFraction;\n",
      "\n",
      "      // Circle of diameter 0.5, composed of a \"hard\" (alpha=1) center of radius 0.5 * hardFraction,\n",
      "      // then transitioning to alpha=0 at diameter 0.5\n",
      "      void main() {\n",
      "        float dist = length(gl_PointCoord.xy - vec2(.5, .5));\n",
      "        // TODO(rsargent):  shouldn't we just be adjusting the alpha here?  Maybe we're taking\n",
      "        // advantage of the double-multiplication to get something other than linear.\n",
      "        // But multiplying all the channels will break if we do something other than an additive blend.\n",
      "        gl_FragColor = color * clamp((0.5 - dist) / (0.5 - 0.5 * hardFraction), 0., 1.);\n",
      "      }\n",
      "    </script>\n",
      "</head>\n",
      "<body style=\"height:100%; margin:0; padding:0\">\n",
      "    <div id=\"map-div\" style=\"height:100%\"></div>\n",
      "    <div style=\"position:relative; left:90px; top:-30px; width:550px\">\n",
      "      <button id=\"playback-play-pause-button\" style=\"width:50px\">Pause</button>\n",
      "      <div align=\"right\" id=\"playback-display\" style=\"width:40px; display:inline-block\"></div>\n",
      "      <input type=\"range\" style=\"width: 300px; position:relative; top:3px\"  value=\"0\" min=\"0\" max=\"17000\" list=\"number\" id=\"playback-range\"/>\n",
      "    </div>\n",
      "</body>\n",
      "</html>\n",
      "\"\"\"\n",
      "\n",
      "# You might find it easier to debug changes to this code by writing everything out to a .html file\n",
      "# and loading it separately into your browser;  uncomment the following to do so\n",
      "\n",
      "open(os.path.expanduser('/home/larbi/Dropbox/pipeline/05-839_bytes/byte4/mcdonalds.html'), 'w').write(src)\n",
      "\n",
      "height = 500\n",
      "iframe_with_source(src, height)"
     ],
     "language": "python",
     "metadata": {},
     "outputs": []
    },
    {
     "cell_type": "markdown",
     "metadata": {},
     "source": [
      "If you only have up to ID# 1000, the map will be looking a bit sparse.  You can scrape more directly by increasing the \"last_store = 1000\" above and rerunning the scrape loop, but it's going to take a while and the workarounds to the geolocation quota limit are a bit annoying.  So let's take a shortcut and grab ID's 1000 and above from a pre-baked JSON file.\n",
      "\n",
      "This is going to require you to do some manual surgery on your mcdonalds_locations.json file, which you need to get comfortable with anyway if you want to be able to clean your data.\n",
      "\n",
      "Bring up mcdonalds_locations.json in your favorite editor, and then splice in records from http://rsargent.cmucreatelab.org/mcdonalds/mcdonalds_locations_1000_and_above.json.  Be sure to keep the stores in order (the display code relies on it), and avoid duplicates (in case you've scraped beyond 999 already).  Also, be mindful of the commas and square brackets to keep your JSON correctly formed.  (You can try pasting your creation into http://jsonlint.com/ for useful error messages if something goes wrong).\n",
      "\n",
      "Once you believe you have a complete mcdonalds_locations.json file, you'll need to load the locations into this notebook by re-executing the \"locations = read_or_create_locations()\" line at the top of the notebook, and then re-execute \"Convert to Javascript series\" and \"Construct HTML Source\".  If all goes well, you'll be able to explore all the McDonald's up to store # 16997.\n"
     ]
    },
    {
     "cell_type": "markdown",
     "metadata": {},
     "source": [
      "###Next steps\n",
      "\n",
      "####Seeing a store's ID\n",
      "It's tricky to interact with a large number of markers on a Google map;  navigating the map requires clicking, so making thousands of markers click-sensitive gets irritating fast.  A better approach might be similar to the logic of image tooltip hover, where leaving a mouse still for a second or two brings up a small textbox.\n",
      "\n",
      "Implement a way to view the ID from a store's marker, and perhaps also a link to that store's web page (remember the pattern \"http://www.mcpennsylvania.com/ID\" from the scraping code above).  You're going to need this for the next step.\n",
      "\n",
      "<b>Update 2/17:  There's a new primitive in ``series.js`` to assist you in this:</b>\n",
      "\n",
      "    findClosestElement(gl, transform, series, pixelXY, maxDistInPixels):\n",
      "    gl               WebGL context\n",
      "    transform        WebGL transformation matrix (e.g. mapMatrix)\n",
      "    series           Data series to search (e.g. mcDonalds)\n",
      "    pixelXY          Pixel coords inside map div.  (If you subscribe to google maps mouse \n",
      "                     events, you can pass in event.pixel here)\n",
      "    maxDistInPixels  Don't return an element that's more than this distance in pixels from pixelXY\n",
      "\n",
      "If element is found, returns an object with ``i`` (sequence), ``lat``, and ``lng``.\n",
      "\n",
      "If no element found within ``maxDistInPixels``, returns ``null``\n",
      "\n",
      "You can look up the store # from sequence like so: ``mcDonalds.index[sequence]``.\n",
      "\n",
      "####Assessing the accuracy your data\n",
      "With the sheer number of sites, it's well outside the scope of this assignment to clean any sizeable fraction of the data.  If you select street map (instead of satellite) and zoom in enough on a marker, you can often see where Google has labeled a McDonald's colocated with your marker.  But it's possible errors in Google's layer could be somewhat correlated with errors in your layer.  In satellite mode, you might recognize the distictive look of the restaurant, at least when it's free-standing.  And of course there's always street view.  (Be aware that both sources of imagery could potentially be older than the McDonald's you're trying to locate).\n",
      "\n",
      "Pick 30 placemarks at random and try to assess whether they're likely correct, likely incorrect, or not able to tell.  Use this to give a very rough estimate on bounds for the accuracy of the rest of the dataset.\n",
      "\n",
      "####Learn from your data, and tell a story\n",
      "Spend some time exploring this dataset.  See any surprises?  Any patterns that you notice?  Tell and record a brief story in your own words, using screencast software (e.g. QuickTime Player for Mac or http://camstudio.org/ for Windows).  Upload to a video sharing site such as YouTube, and embed into your notebook.\n",
      "\n"
     ]
    },
    {
     "cell_type": "code",
     "collapsed": false,
     "input": [
      "from IPython.display import YouTubeVideo\n",
      "YouTubeVideo('QH2-TGUlwu4') # paste your youtube video ID here from the embed link"
     ],
     "language": "python",
     "metadata": {},
     "outputs": []
    },
    {
     "cell_type": "markdown",
     "metadata": {},
     "source": [
      "###Publish your notebook"
     ]
    },
    {
     "cell_type": "markdown",
     "metadata": {},
     "source": [
      "To publish your notebook, you need to perform three steps:\n",
      "\n",
      "- Download your notebook in .ipynb format (using File/Download at the top of the page)\n",
      "- Place your .ipynb file somewhere publicly readable on the web\n",
      "- Use the IPython Notebook Viewer to translate and view your notebook by pasting in the URL to your notebook [here](http://nbviewer.ipython.org/)\n",
      "\n",
      "You can place your .ipynb file online using your Andrew account, or you can do it as well by using your App Engine instance.  An even better approach, if you're familiar with git and github, would be to create a github repo and push your .ipynb file to it.  This allows others to more easily build from your notebook.  And the notebook viewer has special support for pulling the .ipynb file directly from your repo's HEAD.\n",
      "    "
     ]
    },
    {
     "cell_type": "code",
     "collapsed": false,
     "input": [],
     "language": "python",
     "metadata": {},
     "outputs": []
    }
   ],
   "metadata": {}
  }
 ]
}